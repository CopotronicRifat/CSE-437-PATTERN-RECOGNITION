{
  "metadata": {
    "kernelspec": {
      "language": "python",
      "display_name": "Python 3",
      "name": "python3"
    },
    "language_info": {
      "name": "python",
      "version": "3.10.13",
      "mimetype": "text/x-python",
      "codemirror_mode": {
        "name": "ipython",
        "version": 3
      },
      "pygments_lexer": "ipython3",
      "nbconvert_exporter": "python",
      "file_extension": ".py"
    },
    "kaggle": {
      "accelerator": "gpu",
      "dataSources": [],
      "dockerImageVersionId": 30733,
      "isInternetEnabled": true,
      "language": "python",
      "sourceType": "notebook",
      "isGpuEnabled": true
    },
    "colab": {
      "name": "CAPTMFN",
      "provenance": [],
      "include_colab_link": true
    }
  },
  "nbformat_minor": 0,
  "nbformat": 4,
  "cells": [
    {
      "cell_type": "markdown",
      "metadata": {
        "id": "view-in-github",
        "colab_type": "text"
      },
      "source": [
        "<a href=\"https://colab.research.google.com/github/CopotronicRifat/CSE-437-PATTERN-RECOGNITION/blob/master/CAPTMFN.ipynb\" target=\"_parent\"><img src=\"https://colab.research.google.com/assets/colab-badge.svg\" alt=\"Open In Colab\"/></a>"
      ]
    },
    {
      "cell_type": "code",
      "source": [
        "!pip install git+https://github.com/openai/CLIP.git\n",
        "!git clone https://github.com/jefferyYu/TomBERT.git\n",
        "!git clone https://github.com/Porky-Pig/TwitterImageData.git\n",
        "\n",
        "import os\n",
        "import pandas as pd\n",
        "from sklearn.model_selection import train_test_split\n",
        "from tqdm import tqdm\n",
        "import torch\n",
        "from torch import nn, optim\n",
        "from transformers import RobertaModel, RobertaTokenizer, BertConfig\n",
        "from torchvision.models import vit_b_16, ViT_B_16_Weights\n",
        "from torch.utils.data import DataLoader, Dataset\n",
        "from torchvision import transforms\n",
        "from PIL import Image\n",
        "import clip\n",
        "from sklearn.metrics import f1_score\n",
        "\n",
        "# Define paths to the data\n",
        "tsv_base_path = 'TomBERT/absa_data/twitter2015'\n",
        "image_base_path = 'TwitterImageData/twitter2015_images'\n",
        "\n",
        "# Verify paths\n",
        "print(\"TSV Directory exists:\", os.path.exists(tsv_base_path))\n",
        "print(\"Image Directory exists:\", os.path.exists(image_base_path))\n",
        "\n",
        "# Define the path to the base directory containing the TSV files\n",
        "columns = ['index', 'Label', 'ImageID', 'String1', 'String2']\n",
        "\n",
        "# Function to load and prepare data with the correct number of columns\n",
        "def load_and_prepare_data(filename):\n",
        "    file_path = os.path.join(tsv_base_path, filename)\n",
        "    return pd.read_csv(file_path, sep='\\t', header=0, names=columns)\n",
        "\n",
        "# Load the data files\n",
        "train_df = load_and_prepare_data('train.tsv')\n",
        "dev_df = load_and_prepare_data('dev.tsv')\n",
        "test_df = load_and_prepare_data('test.tsv')\n",
        "\n",
        "# Combine train and dev sets\n",
        "full_train_df = pd.concat([train_df, dev_df])\n",
        "\n",
        "# Split into new train and validation sets\n",
        "train_df, valid_df = train_test_split(full_train_df, test_size=0.1)\n",
        "\n",
        "# Initialize OpenAI CLIP model\n",
        "device = torch.device(\"cuda\" if torch.cuda.is_available() else \"cpu\")\n",
        "clip_model, preprocess = clip.load(\"ViT-B/32\", device=device)\n",
        "\n",
        "# Custom Dataset class\n",
        "class CustomDataset(Dataset):\n",
        "    def __init__(self, dataframe, image_base_path, transform=None):\n",
        "        self.dataframe = dataframe\n",
        "        self.image_base_path = image_base_path\n",
        "        self.transform = transform\n",
        "        self.tokenizer = RobertaTokenizer.from_pretrained('roberta-base')\n",
        "\n",
        "    def __len__(self):\n",
        "        return len(self.dataframe)\n",
        "\n",
        "    def __getitem__(self, idx):\n",
        "        row = self.dataframe.iloc[idx]\n",
        "\n",
        "        tweet = row['String1']\n",
        "        aspect_term = row['String2']\n",
        "\n",
        "        inputs = self.tokenizer(tweet, return_tensors=\"pt\", padding='max_length', max_length=50, truncation=True)\n",
        "        input_ids = inputs['input_ids'].squeeze(0)\n",
        "        attention_mask = inputs['attention_mask'].squeeze(0)\n",
        "\n",
        "        aspect_inputs = self.tokenizer(aspect_term, return_tensors=\"pt\", padding='max_length', max_length=20, truncation=True)\n",
        "        aspect_ids = aspect_inputs['input_ids'].squeeze(0)\n",
        "        aspect_attention_mask = aspect_inputs['attention_mask'].squeeze(0)\n",
        "\n",
        "        image_path = os.path.join(self.image_base_path, row['ImageID'])\n",
        "        image = Image.open(image_path).convert('RGB')\n",
        "\n",
        "        # Generate caption using CLIP\n",
        "        image_input = preprocess(image).unsqueeze(0).to(device)\n",
        "        with torch.no_grad():\n",
        "            text_inputs = clip.tokenize([\"This is a photo of\"]).to(device)\n",
        "            logits_per_image, logits_per_text = clip_model(image_input, text_inputs)\n",
        "            caption = clip.tokenize(\"This is a photo of\").to(device)\n",
        "\n",
        "        caption_inputs = self.tokenizer.decode(caption.squeeze(0).cpu().numpy())\n",
        "        caption_inputs = self.tokenizer(caption_inputs, return_tensors=\"pt\", padding='max_length', max_length=50, truncation=True)\n",
        "        caption_ids = caption_inputs['input_ids'].squeeze(0)\n",
        "        caption_attention_mask = caption_inputs['attention_mask'].squeeze(0)\n",
        "\n",
        "        if self.transform:\n",
        "            image = self.transform(image)\n",
        "\n",
        "        label = torch.tensor(row['Label'], dtype=torch.long)\n",
        "\n",
        "        return input_ids, attention_mask, aspect_ids, aspect_attention_mask, image, caption_ids, caption_attention_mask, label\n",
        "\n",
        "# Define transforms\n",
        "transform = transforms.Compose([\n",
        "    transforms.Resize((224, 224)),\n",
        "    transforms.RandomHorizontalFlip(),\n",
        "    transforms.ToTensor()\n",
        "])\n",
        "\n",
        "# Create DataLoader\n",
        "train_dataset = CustomDataset(train_df, image_base_path, transform=transform)\n",
        "valid_dataset = CustomDataset(valid_df, image_base_path, transform=transform)\n",
        "test_dataset = CustomDataset(test_df, image_base_path, transform=transform)\n",
        "\n",
        "train_loader = DataLoader(train_dataset, batch_size=8, shuffle=True)\n",
        "valid_loader = DataLoader(valid_dataset, batch_size=8, shuffle=False)\n",
        "test_loader = DataLoader(test_dataset, batch_size=8, shuffle=False)\n",
        "\n",
        "class TMFN(nn.Module):\n",
        "    def __init__(self):\n",
        "        super(TMFN, self).__init__()\n",
        "        self.text_encoder = RobertaModel.from_pretrained('roberta-base')\n",
        "        self.image_encoder = vit_b_16(weights=ViT_B_16_Weights.IMAGENET1K_V1)\n",
        "        self.dropout = nn.Dropout(p=0.3)\n",
        "        self.fusion_layer = nn.Linear(768 + 1000 + 768, 512)\n",
        "        self.classifier = nn.Linear(512, 3)\n",
        "\n",
        "        # Caption generation components\n",
        "        decoder_config = BertConfig.from_pretrained('roberta-base')\n",
        "        self.caption_decoder = RobertaModel(decoder_config)\n",
        "        self.caption_linear = nn.Linear(768, self.text_encoder.config.vocab_size)\n",
        "\n",
        "    def forward(self, input_ids, attention_mask, aspect_ids, aspect_attention_mask, images, caption_ids, caption_attention_mask):\n",
        "        text_features = self.text_encoder(input_ids, attention_mask=attention_mask).last_hidden_state[:, 0, :]\n",
        "        aspect_features = self.text_encoder(aspect_ids, attention_mask=aspect_attention_mask).last_hidden_state[:, 0, :]\n",
        "        image_features = self.image_encoder(images)\n",
        "        combined_features = torch.cat([text_features, aspect_features, image_features], dim=1)\n",
        "        fusion_output = torch.relu(self.fusion_layer(combined_features))\n",
        "        fusion_output = self.dropout(fusion_output)\n",
        "        logits = self.classifier(fusion_output)\n",
        "\n",
        "        # Caption generation\n",
        "        caption_outputs = self.caption_decoder(input_ids=caption_ids, attention_mask=caption_attention_mask)\n",
        "        caption_logits = self.caption_linear(caption_outputs.last_hidden_state)\n",
        "\n",
        "        return logits, caption_logits\n",
        "\n",
        "def evaluate_model(model, dataloader, device):\n",
        "    model.eval()\n",
        "    all_preds = []\n",
        "    all_labels = []\n",
        "    with torch.no_grad():\n",
        "        for data in dataloader:\n",
        "            input_ids, attention_mask, aspect_ids, aspect_attention_mask, images, caption_ids, caption_attention_mask, labels = [d.to(device) for d in data]\n",
        "            outputs, _ = model(input_ids, attention_mask, aspect_ids, aspect_attention_mask, images, caption_ids, caption_attention_mask)\n",
        "            preds = torch.argmax(outputs, dim=1).cpu().numpy()\n",
        "            all_preds.extend(preds)\n",
        "            all_labels.extend(labels.cpu().numpy())\n",
        "    f1 = f1_score(all_labels, all_preds, average='macro')\n",
        "    return f1\n",
        "\n",
        "model = TMFN().to(device)\n",
        "optimizer = optim.Adam(model.parameters(), lr=1e-5)\n",
        "criterion = nn.CrossEntropyLoss()\n",
        "caption_criterion = nn.CrossEntropyLoss(ignore_index=model.text_encoder.config.pad_token_id)\n",
        "\n",
        "best_valid_f1 = 0\n",
        "classification_weight = 0.5\n",
        "caption_weight = 0.5\n",
        "\n",
        "for epoch in range(20):\n",
        "    model.train()\n",
        "    total_loss = 0\n",
        "    for data in tqdm(train_loader):\n",
        "        input_ids, attention_mask, aspect_ids, aspect_attention_mask, images, caption_ids, caption_attention_mask, labels = [d.to(device) for d in data]\n",
        "        outputs, caption_logits = model(input_ids, attention_mask, aspect_ids, aspect_attention_mask, images, caption_ids, caption_attention_mask)\n",
        "\n",
        "        loss = classification_weight * criterion(outputs, labels)\n",
        "        caption_loss = caption_weight * caption_criterion(caption_logits.view(-1, caption_logits.size(-1)), caption_ids.view(-1))\n",
        "        total_loss = loss + caption_loss\n",
        "\n",
        "        total_loss.backward()\n",
        "        optimizer.step()\n",
        "        optimizer.zero_grad()\n",
        "        total_loss += loss.item()\n",
        "\n",
        "    valid_f1 = evaluate_model(model, valid_loader, device)\n",
        "    print(f'Epoch {epoch+1}, Loss: {total_loss / len(train_loader)}, Validation F1: {valid_f1}')\n",
        "\n",
        "    if valid_f1 > best_valid_f1:\n",
        "        best_valid_f1 = valid_f1\n",
        "        torch.save(model.state_dict(), 'best_model.pth')\n",
        "\n",
        "# Load the best model\n",
        "model.load_state_dict(torch.load('best_model.pth'))\n",
        "\n",
        "# Evaluate on the test set\n",
        "test_f1 = evaluate_model(model, test_loader, device)\n",
        "print(f'Test F1 Score: {test_f1}')\n"
      ],
      "metadata": {
        "_uuid": "8f2839f25d086af736a60e9eeb907d3b93b6e0e5",
        "_cell_guid": "b1076dfc-b9ad-4769-8c92-a6c4dae69d19",
        "execution": {
          "iopub.status.busy": "2024-06-07T04:10:04.917513Z",
          "iopub.execute_input": "2024-06-07T04:10:04.918021Z",
          "iopub.status.idle": "2024-06-07T05:53:56.576945Z",
          "shell.execute_reply.started": "2024-06-07T04:10:04.917977Z",
          "shell.execute_reply": "2024-06-07T05:53:56.576039Z"
        },
        "trusted": true,
        "id": "rc03Oo7KRQUE",
        "outputId": "b74decac-4893-4339-baed-c88cd23ddea2",
        "colab": {
          "referenced_widgets": [
            "4c25236da3b3425b9395d40abdfdebd3",
            "579bbe6a38ca431f80270b95d8d30f64",
            "9e79ef3eebfc4f6486c4d966fb641f45",
            "ea67882da2b34c7eb923942d80b21c05",
            "90f8899726f04dbda22467d8d9f05adb",
            "c8e75e07b0084c1ba1eb633c67f700eb"
          ]
        }
      },
      "execution_count": null,
      "outputs": [
        {
          "name": "stdout",
          "text": "Collecting git+https://github.com/openai/CLIP.git\n  Cloning https://github.com/openai/CLIP.git to /tmp/pip-req-build-tt0tl3i0\n  Running command git clone --filter=blob:none --quiet https://github.com/openai/CLIP.git /tmp/pip-req-build-tt0tl3i0\n  Resolved https://github.com/openai/CLIP.git to commit dcba3cb2e2827b402d2701e7e1c7d9fed8a20ef1\n  Preparing metadata (setup.py) ... \u001b[?25ldone\n\u001b[?25hRequirement already satisfied: ftfy in /opt/conda/lib/python3.10/site-packages (from clip==1.0) (6.2.0)\nRequirement already satisfied: packaging in /opt/conda/lib/python3.10/site-packages (from clip==1.0) (21.3)\nRequirement already satisfied: regex in /opt/conda/lib/python3.10/site-packages (from clip==1.0) (2023.12.25)\nRequirement already satisfied: tqdm in /opt/conda/lib/python3.10/site-packages (from clip==1.0) (4.66.4)\nRequirement already satisfied: torch in /opt/conda/lib/python3.10/site-packages (from clip==1.0) (2.1.2)\nRequirement already satisfied: torchvision in /opt/conda/lib/python3.10/site-packages (from clip==1.0) (0.16.2)\nRequirement already satisfied: wcwidth<0.3.0,>=0.2.12 in /opt/conda/lib/python3.10/site-packages (from ftfy->clip==1.0) (0.2.13)\nRequirement already satisfied: pyparsing!=3.0.5,>=2.0.2 in /opt/conda/lib/python3.10/site-packages (from packaging->clip==1.0) (3.1.1)\nRequirement already satisfied: filelock in /opt/conda/lib/python3.10/site-packages (from torch->clip==1.0) (3.13.1)\nRequirement already satisfied: typing-extensions in /opt/conda/lib/python3.10/site-packages (from torch->clip==1.0) (4.9.0)\nRequirement already satisfied: sympy in /opt/conda/lib/python3.10/site-packages (from torch->clip==1.0) (1.12.1)\nRequirement already satisfied: networkx in /opt/conda/lib/python3.10/site-packages (from torch->clip==1.0) (3.2.1)\nRequirement already satisfied: jinja2 in /opt/conda/lib/python3.10/site-packages (from torch->clip==1.0) (3.1.2)\nRequirement already satisfied: fsspec in /opt/conda/lib/python3.10/site-packages (from torch->clip==1.0) (2024.3.1)\nRequirement already satisfied: numpy in /opt/conda/lib/python3.10/site-packages (from torchvision->clip==1.0) (1.26.4)\nRequirement already satisfied: requests in /opt/conda/lib/python3.10/site-packages (from torchvision->clip==1.0) (2.32.3)\nRequirement already satisfied: pillow!=8.3.*,>=5.3.0 in /opt/conda/lib/python3.10/site-packages (from torchvision->clip==1.0) (9.5.0)\nRequirement already satisfied: MarkupSafe>=2.0 in /opt/conda/lib/python3.10/site-packages (from jinja2->torch->clip==1.0) (2.1.3)\nRequirement already satisfied: charset-normalizer<4,>=2 in /opt/conda/lib/python3.10/site-packages (from requests->torchvision->clip==1.0) (3.3.2)\nRequirement already satisfied: idna<4,>=2.5 in /opt/conda/lib/python3.10/site-packages (from requests->torchvision->clip==1.0) (3.6)\nRequirement already satisfied: urllib3<3,>=1.21.1 in /opt/conda/lib/python3.10/site-packages (from requests->torchvision->clip==1.0) (1.26.18)\nRequirement already satisfied: certifi>=2017.4.17 in /opt/conda/lib/python3.10/site-packages (from requests->torchvision->clip==1.0) (2024.2.2)\nRequirement already satisfied: mpmath<1.4.0,>=1.1.0 in /opt/conda/lib/python3.10/site-packages (from sympy->torch->clip==1.0) (1.3.0)\nCloning into 'TomBERT'...\nremote: Enumerating objects: 84, done.\u001b[K\nremote: Total 84 (delta 0), reused 0 (delta 0), pack-reused 84\u001b[K\nUnpacking objects: 100% (84/84), 663.85 KiB | 5.72 MiB/s, done.\nCloning into 'TwitterImageData'...\nremote: Enumerating objects: 8248, done.\u001b[K\nremote: Total 8248 (delta 0), reused 0 (delta 0), pack-reused 8248\u001b[K\nReceiving objects: 100% (8248/8248), 576.77 MiB | 51.60 MiB/s, done.\nUpdating files: 100% (8288/8288), done.\nTSV Directory exists: True\nImage Directory exists: True\n",
          "output_type": "stream"
        },
        {
          "name": "stderr",
          "text": "100%|████████████████████████████████████████| 338M/338M [00:01<00:00, 214MiB/s]\n",
          "output_type": "stream"
        },
        {
          "output_type": "display_data",
          "data": {
            "text/plain": "tokenizer_config.json:   0%|          | 0.00/25.0 [00:00<?, ?B/s]",
            "application/vnd.jupyter.widget-view+json": {
              "version_major": 2,
              "version_minor": 0,
              "model_id": "4c25236da3b3425b9395d40abdfdebd3"
            }
          },
          "metadata": {}
        },
        {
          "output_type": "display_data",
          "data": {
            "text/plain": "vocab.json:   0%|          | 0.00/899k [00:00<?, ?B/s]",
            "application/vnd.jupyter.widget-view+json": {
              "version_major": 2,
              "version_minor": 0,
              "model_id": "579bbe6a38ca431f80270b95d8d30f64"
            }
          },
          "metadata": {}
        },
        {
          "output_type": "display_data",
          "data": {
            "text/plain": "merges.txt:   0%|          | 0.00/456k [00:00<?, ?B/s]",
            "application/vnd.jupyter.widget-view+json": {
              "version_major": 2,
              "version_minor": 0,
              "model_id": "9e79ef3eebfc4f6486c4d966fb641f45"
            }
          },
          "metadata": {}
        },
        {
          "output_type": "display_data",
          "data": {
            "text/plain": "tokenizer.json:   0%|          | 0.00/1.36M [00:00<?, ?B/s]",
            "application/vnd.jupyter.widget-view+json": {
              "version_major": 2,
              "version_minor": 0,
              "model_id": "ea67882da2b34c7eb923942d80b21c05"
            }
          },
          "metadata": {}
        },
        {
          "name": "stderr",
          "text": "/opt/conda/lib/python3.10/site-packages/huggingface_hub/file_download.py:1132: FutureWarning: `resume_download` is deprecated and will be removed in version 1.0.0. Downloads always resume when possible. If you want to force a new download, use `force_download=True`.\n  warnings.warn(\n",
          "output_type": "stream"
        },
        {
          "output_type": "display_data",
          "data": {
            "text/plain": "config.json:   0%|          | 0.00/481 [00:00<?, ?B/s]",
            "application/vnd.jupyter.widget-view+json": {
              "version_major": 2,
              "version_minor": 0,
              "model_id": "90f8899726f04dbda22467d8d9f05adb"
            }
          },
          "metadata": {}
        },
        {
          "output_type": "display_data",
          "data": {
            "text/plain": "model.safetensors:   0%|          | 0.00/499M [00:00<?, ?B/s]",
            "application/vnd.jupyter.widget-view+json": {
              "version_major": 2,
              "version_minor": 0,
              "model_id": "c8e75e07b0084c1ba1eb633c67f700eb"
            }
          },
          "metadata": {}
        },
        {
          "name": "stderr",
          "text": "Some weights of RobertaModel were not initialized from the model checkpoint at roberta-base and are newly initialized: ['roberta.pooler.dense.bias', 'roberta.pooler.dense.weight']\nYou should probably TRAIN this model on a down-stream task to be able to use it for predictions and inference.\nDownloading: \"https://download.pytorch.org/models/vit_b_16-c867db91.pth\" to /root/.cache/torch/hub/checkpoints/vit_b_16-c867db91.pth\n100%|██████████| 330M/330M [00:02<00:00, 169MB/s] \nYou are using a model of type roberta to instantiate a model of type bert. This is not supported for all configurations of models and can yield errors.\n100%|██████████| 484/484 [04:55<00:00,  1.64it/s]\n",
          "output_type": "stream"
        },
        {
          "name": "stdout",
          "text": "Epoch 1, Loss: 0.0004606588918250054, Validation F1: 0.6218879410810195\n",
          "output_type": "stream"
        },
        {
          "name": "stderr",
          "text": "100%|██████████| 484/484 [04:51<00:00,  1.66it/s]\n",
          "output_type": "stream"
        },
        {
          "name": "stdout",
          "text": "Epoch 2, Loss: 0.0014732758281752467, Validation F1: 0.6852813784047104\n",
          "output_type": "stream"
        },
        {
          "name": "stderr",
          "text": "100%|██████████| 484/484 [04:51<00:00,  1.66it/s]\n",
          "output_type": "stream"
        },
        {
          "name": "stdout",
          "text": "Epoch 3, Loss: 0.0011947550810873508, Validation F1: 0.680328884798282\n",
          "output_type": "stream"
        },
        {
          "name": "stderr",
          "text": "100%|██████████| 484/484 [04:50<00:00,  1.66it/s]\n",
          "output_type": "stream"
        },
        {
          "name": "stdout",
          "text": "Epoch 4, Loss: 2.2677546439808793e-05, Validation F1: 0.6854494807683736\n",
          "output_type": "stream"
        },
        {
          "name": "stderr",
          "text": "100%|██████████| 484/484 [04:51<00:00,  1.66it/s]\n",
          "output_type": "stream"
        },
        {
          "name": "stdout",
          "text": "Epoch 5, Loss: 0.00039242187631316483, Validation F1: 0.7116339489880344\n",
          "output_type": "stream"
        },
        {
          "name": "stderr",
          "text": "100%|██████████| 484/484 [04:47<00:00,  1.68it/s]\n",
          "output_type": "stream"
        },
        {
          "name": "stdout",
          "text": "Epoch 6, Loss: 4.644658474717289e-05, Validation F1: 0.7161710270405922\n",
          "output_type": "stream"
        },
        {
          "name": "stderr",
          "text": "100%|██████████| 484/484 [04:44<00:00,  1.70it/s]\n",
          "output_type": "stream"
        },
        {
          "name": "stdout",
          "text": "Epoch 7, Loss: 0.00015478592831641436, Validation F1: 0.7398150511698341\n",
          "output_type": "stream"
        },
        {
          "name": "stderr",
          "text": "100%|██████████| 484/484 [04:44<00:00,  1.70it/s]\n",
          "output_type": "stream"
        },
        {
          "name": "stdout",
          "text": "Epoch 8, Loss: 2.7561189199332148e-05, Validation F1: 0.7155966943206638\n",
          "output_type": "stream"
        },
        {
          "name": "stderr",
          "text": "100%|██████████| 484/484 [04:44<00:00,  1.70it/s]\n",
          "output_type": "stream"
        },
        {
          "name": "stdout",
          "text": "Epoch 9, Loss: 2.9995494514878374e-06, Validation F1: 0.70438854541468\n",
          "output_type": "stream"
        },
        {
          "name": "stderr",
          "text": "100%|██████████| 484/484 [04:44<00:00,  1.70it/s]\n",
          "output_type": "stream"
        },
        {
          "name": "stdout",
          "text": "Epoch 10, Loss: 4.42182099504862e-05, Validation F1: 0.703563447088469\n",
          "output_type": "stream"
        },
        {
          "name": "stderr",
          "text": "100%|██████████| 484/484 [04:44<00:00,  1.70it/s]\n",
          "output_type": "stream"
        },
        {
          "name": "stdout",
          "text": "Epoch 11, Loss: 0.0009183380752801895, Validation F1: 0.7331632668204091\n",
          "output_type": "stream"
        },
        {
          "name": "stderr",
          "text": "100%|██████████| 484/484 [04:45<00:00,  1.70it/s]\n",
          "output_type": "stream"
        },
        {
          "name": "stdout",
          "text": "Epoch 12, Loss: 0.00010331592056900263, Validation F1: 0.7138810293045439\n",
          "output_type": "stream"
        },
        {
          "name": "stderr",
          "text": "100%|██████████| 484/484 [04:44<00:00,  1.70it/s]\n",
          "output_type": "stream"
        },
        {
          "name": "stdout",
          "text": "Epoch 13, Loss: 0.00010863624629564583, Validation F1: 0.7489877725171842\n",
          "output_type": "stream"
        },
        {
          "name": "stderr",
          "text": "100%|██████████| 484/484 [04:44<00:00,  1.70it/s]\n",
          "output_type": "stream"
        },
        {
          "name": "stdout",
          "text": "Epoch 14, Loss: 6.746343501617957e-07, Validation F1: 0.699209260387014\n",
          "output_type": "stream"
        },
        {
          "name": "stderr",
          "text": "100%|██████████| 484/484 [04:44<00:00,  1.70it/s]\n",
          "output_type": "stream"
        },
        {
          "name": "stdout",
          "text": "Epoch 15, Loss: 3.939548150810879e-06, Validation F1: 0.6872682369214783\n",
          "output_type": "stream"
        },
        {
          "name": "stderr",
          "text": "100%|██████████| 484/484 [04:44<00:00,  1.70it/s]\n",
          "output_type": "stream"
        },
        {
          "name": "stdout",
          "text": "Epoch 16, Loss: 4.136903498874744e-06, Validation F1: 0.7136145541783288\n",
          "output_type": "stream"
        },
        {
          "name": "stderr",
          "text": "100%|██████████| 484/484 [04:44<00:00,  1.70it/s]\n",
          "output_type": "stream"
        },
        {
          "name": "stdout",
          "text": "Epoch 17, Loss: 6.341974312817911e-06, Validation F1: 0.7025048541122224\n",
          "output_type": "stream"
        },
        {
          "name": "stderr",
          "text": "100%|██████████| 484/484 [04:44<00:00,  1.70it/s]\n",
          "output_type": "stream"
        },
        {
          "name": "stdout",
          "text": "Epoch 18, Loss: 1.1716309018083848e-05, Validation F1: 0.7238584440481324\n",
          "output_type": "stream"
        },
        {
          "name": "stderr",
          "text": "100%|██████████| 484/484 [04:45<00:00,  1.70it/s]\n",
          "output_type": "stream"
        },
        {
          "name": "stdout",
          "text": "Epoch 19, Loss: 5.05276284457068e-06, Validation F1: 0.698923654341146\n",
          "output_type": "stream"
        },
        {
          "name": "stderr",
          "text": "100%|██████████| 484/484 [04:44<00:00,  1.70it/s]\n",
          "output_type": "stream"
        },
        {
          "name": "stdout",
          "text": "Epoch 20, Loss: 1.5787418305990286e-06, Validation F1: 0.6880972522886081\nTest F1 Score: 0.7232051445879897\n",
          "output_type": "stream"
        }
      ]
    }
  ]
}