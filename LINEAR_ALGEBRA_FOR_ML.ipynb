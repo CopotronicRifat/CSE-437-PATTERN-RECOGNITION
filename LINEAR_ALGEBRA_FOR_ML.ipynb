{
  "nbformat": 4,
  "nbformat_minor": 0,
  "metadata": {
    "colab": {
      "provenance": [],
      "authorship_tag": "ABX9TyOD7Xp7VAOuZZOF7rC+oKdt",
      "include_colab_link": true
    },
    "kernelspec": {
      "name": "python3",
      "display_name": "Python 3"
    },
    "language_info": {
      "name": "python"
    }
  },
  "cells": [
    {
      "cell_type": "markdown",
      "metadata": {
        "id": "view-in-github",
        "colab_type": "text"
      },
      "source": [
        "<a href=\"https://colab.research.google.com/github/CopotronicRifat/CSE-437-PATTERN-RECOGNITION/blob/master/LINEAR_ALGEBRA_FOR_ML.ipynb\" target=\"_parent\"><img src=\"https://colab.research.google.com/assets/colab-badge.svg\" alt=\"Open In Colab\"/></a>"
      ]
    },
    {
      "cell_type": "code",
      "execution_count": null,
      "metadata": {
        "colab": {
          "base_uri": "https://localhost:8080/"
        },
        "id": "sc8LI1kOiyjF",
        "outputId": "95c20eaf-a8f6-48b1-cd91-91a7d0cee437"
      },
      "outputs": [
        {
          "output_type": "stream",
          "name": "stdout",
          "text": [
            "[[1.81217508e-316 1.77863633e-322 0.00000000e+000]\n",
            " [0.00000000e+000 0.00000000e+000 6.81900169e-038]\n",
            " [1.77296969e+160 6.87249203e-091 8.38272204e+165]]\n"
          ]
        }
      ],
      "source": [
        "import numpy as np\n",
        "a = np.empty([3, 3])\n",
        "print(a)"
      ]
    },
    {
      "cell_type": "code",
      "source": [
        "b = np.zeros([3, 5])\n",
        "print(b)"
      ],
      "metadata": {
        "colab": {
          "base_uri": "https://localhost:8080/"
        },
        "id": "E-FYi-Y5jNec",
        "outputId": "3915f48a-3441-48de-f282-8a1ec69351d8"
      },
      "execution_count": null,
      "outputs": [
        {
          "output_type": "stream",
          "name": "stdout",
          "text": [
            "[[0. 0. 0. 0. 0.]\n",
            " [0. 0. 0. 0. 0.]\n",
            " [0. 0. 0. 0. 0.]]\n"
          ]
        }
      ]
    },
    {
      "cell_type": "code",
      "source": [
        "b = np.ones([3, 5])\n",
        "print(b)"
      ],
      "metadata": {
        "colab": {
          "base_uri": "https://localhost:8080/"
        },
        "id": "RyOM3teLjVEt",
        "outputId": "7b1bb334-41ba-48ad-f1e3-fc008a2a50d4"
      },
      "execution_count": null,
      "outputs": [
        {
          "output_type": "stream",
          "name": "stdout",
          "text": [
            "[[1. 1. 1. 1. 1.]\n",
            " [1. 1. 1. 1. 1.]\n",
            " [1. 1. 1. 1. 1.]]\n"
          ]
        }
      ]
    },
    {
      "cell_type": "code",
      "source": [
        "# create array with vstack\n",
        "from numpy import array\n",
        "from numpy import vstack\n",
        "# create first array\n",
        "a1 = array([1,2,3])\n",
        "print(a1)\n",
        "# create second array\n",
        "a2 = array([4,5,6])\n",
        "print(a2)\n",
        "# vertical stack\n",
        "a3 = vstack((a1, a2))\n",
        "print(a3)\n",
        "print(a3.shape)"
      ],
      "metadata": {
        "colab": {
          "base_uri": "https://localhost:8080/"
        },
        "id": "iva9vfCDjdp5",
        "outputId": "081ab0de-08cb-422a-f35b-e6999c6344ff"
      },
      "execution_count": null,
      "outputs": [
        {
          "output_type": "stream",
          "name": "stdout",
          "text": [
            "[1 2 3]\n",
            "[4 5 6]\n",
            "[[1 2 3]\n",
            " [4 5 6]]\n",
            "(2, 3)\n"
          ]
        }
      ]
    },
    {
      "cell_type": "code",
      "source": [
        "# create array with hstack\n",
        "from numpy import array\n",
        "from numpy import hstack\n",
        "# create first array\n",
        "a1 = array([1,2,3])\n",
        "print(a1)\n",
        "# create second array\n",
        "a2 = array([4,5,6])\n",
        "print(a2)\n",
        "# create horizontal stack\n",
        "a3 = hstack((a1, a2))\n",
        "print(a3)\n",
        "print(a3.shape)"
      ],
      "metadata": {
        "id": "BSjy_7kmjkeY",
        "outputId": "74adfc82-d5d8-48af-edea-b9005b1f6e32",
        "colab": {
          "base_uri": "https://localhost:8080/"
        }
      },
      "execution_count": null,
      "outputs": [
        {
          "output_type": "stream",
          "name": "stdout",
          "text": [
            "[1 2 3]\n",
            "[4 5 6]\n",
            "[1 2 3 4 5 6]\n",
            "(6,)\n"
          ]
        }
      ]
    },
    {
      "cell_type": "code",
      "source": [
        "# create one-dimensional array\n",
        "from numpy import array\n",
        "# list of data\n",
        "data = [11, 22, 33, 44, 55]\n",
        "# array of data\n",
        "data = array(data)\n",
        "print(data)\n",
        "print(type(data))"
      ],
      "metadata": {
        "colab": {
          "base_uri": "https://localhost:8080/"
        },
        "id": "Ehdy-MClHF5F",
        "outputId": "b18de981-00a3-4efa-fdb2-f4a790ff78ac"
      },
      "execution_count": null,
      "outputs": [
        {
          "output_type": "stream",
          "name": "stdout",
          "text": [
            "[11 22 33 44 55]\n",
            "<class 'numpy.ndarray'>\n"
          ]
        }
      ]
    },
    {
      "cell_type": "code",
      "source": [
        "# create two-dimensional array\n",
        "from numpy import array\n",
        "# list of data\n",
        "data = [[11, 22],\n",
        "[33, 44],\n",
        "[55, 66]]\n",
        "# array of data\n",
        "data = array(data)\n",
        "print(data)\n",
        "print(type(data))"
      ],
      "metadata": {
        "colab": {
          "base_uri": "https://localhost:8080/"
        },
        "id": "O7fFMuZaHOMs",
        "outputId": "4a860366-5320-47c1-f9f1-43ac9416fd32"
      },
      "execution_count": null,
      "outputs": [
        {
          "output_type": "stream",
          "name": "stdout",
          "text": [
            "[[11 22]\n",
            " [33 44]\n",
            " [55 66]]\n",
            "<class 'numpy.ndarray'>\n"
          ]
        }
      ]
    },
    {
      "cell_type": "code",
      "source": [
        "# index a one-dimensional array\n",
        "from numpy import array\n",
        "# define array\n",
        "data = array([11, 22, 33, 44, 55])\n",
        "# index data\n",
        "print(data[0])\n",
        "print(data[4])"
      ],
      "metadata": {
        "colab": {
          "base_uri": "https://localhost:8080/"
        },
        "id": "gVlsEtpaHSiq",
        "outputId": "63cdb29d-863a-4141-8f24-afad4ada49fa"
      },
      "execution_count": null,
      "outputs": [
        {
          "output_type": "stream",
          "name": "stdout",
          "text": [
            "11\n",
            "55\n"
          ]
        }
      ]
    },
    {
      "cell_type": "code",
      "source": [
        "# negative array indexing\n",
        "from numpy import array\n",
        "# define array\n",
        "data = array([11, 22, 33, 44, 55])\n",
        "# index data\n",
        "print(data[-1])\n",
        "print(data[-5])"
      ],
      "metadata": {
        "colab": {
          "base_uri": "https://localhost:8080/"
        },
        "id": "-5HnFBTgHW9z",
        "outputId": "111171f0-72ec-4a5d-cee7-acc8ad292667"
      },
      "execution_count": null,
      "outputs": [
        {
          "output_type": "stream",
          "name": "stdout",
          "text": [
            "55\n",
            "11\n"
          ]
        }
      ]
    },
    {
      "cell_type": "code",
      "source": [
        "# index two-dimensional array\n",
        "from numpy import array\n",
        "# define array\n",
        "data = array([\n",
        "[11, 22],\n",
        "[33, 44],\n",
        "[55, 66]])\n",
        "# index data\n",
        "print(data[0,0])"
      ],
      "metadata": {
        "colab": {
          "base_uri": "https://localhost:8080/"
        },
        "id": "qp7ssDNgHerG",
        "outputId": "750bcced-2e18-4b15-a86d-140270ab0c3d"
      },
      "execution_count": null,
      "outputs": [
        {
          "output_type": "stream",
          "name": "stdout",
          "text": [
            "11\n"
          ]
        }
      ]
    },
    {
      "cell_type": "code",
      "source": [
        "# index row of two-dimensional array\n",
        "from numpy import array\n",
        "# define array\n",
        "data = array([\n",
        "[11, 22],\n",
        "[33, 44],\n",
        "[55, 66]])\n",
        "# index data\n",
        "print(data[0,])\n",
        "print(data[0])"
      ],
      "metadata": {
        "colab": {
          "base_uri": "https://localhost:8080/"
        },
        "id": "S0vVUxBDHhsH",
        "outputId": "7d6cbf17-c21c-4bbe-9a19-1393286170e7"
      },
      "execution_count": null,
      "outputs": [
        {
          "output_type": "stream",
          "name": "stdout",
          "text": [
            "[11 22]\n",
            "[11 22]\n"
          ]
        }
      ]
    },
    {
      "cell_type": "code",
      "source": [
        "# slice a one-dimensional array\n",
        "from numpy import array\n",
        "# define array\n",
        "data = array([11, 22, 33, 44, 55])\n",
        "print(data[:])"
      ],
      "metadata": {
        "colab": {
          "base_uri": "https://localhost:8080/"
        },
        "id": "VNQyDJywHpcm",
        "outputId": "a34ffad1-52d3-4502-bfd3-3bf55801fb5f"
      },
      "execution_count": null,
      "outputs": [
        {
          "output_type": "stream",
          "name": "stdout",
          "text": [
            "[11 22 33 44 55]\n"
          ]
        }
      ]
    },
    {
      "cell_type": "code",
      "source": [
        "# slice a subset of a one-dimensional array\n",
        "from numpy import array\n",
        "# define array\n",
        "data = array([11, 22, 33, 44, 55])\n",
        "print(data[0:1])"
      ],
      "metadata": {
        "colab": {
          "base_uri": "https://localhost:8080/"
        },
        "id": "2VEsm-fQHs8B",
        "outputId": "99e10753-68ee-4d5a-9b74-91859dc922c7"
      },
      "execution_count": null,
      "outputs": [
        {
          "output_type": "stream",
          "name": "stdout",
          "text": [
            "[11]\n"
          ]
        }
      ]
    },
    {
      "cell_type": "code",
      "source": [
        "# negative slicing of a one-dimensional array\n",
        "from numpy import array\n",
        "# define array\n",
        "data = array([11, 22, 33, 44, 55])\n",
        "print(data[-2:])"
      ],
      "metadata": {
        "colab": {
          "base_uri": "https://localhost:8080/"
        },
        "id": "AKgl4NqHHwQY",
        "outputId": "7627eadc-19c7-492d-9746-45dd7a57d90b"
      },
      "execution_count": null,
      "outputs": [
        {
          "output_type": "stream",
          "name": "stdout",
          "text": [
            "[44 55]\n"
          ]
        }
      ]
    },
    {
      "cell_type": "code",
      "source": [
        "# split input and output data\n",
        "from numpy import array\n",
        "# define array\n",
        "data = array([\n",
        "[11, 22, 33],\n",
        "[44, 55, 66],\n",
        "[77, 88, 99]])\n",
        "# separate data\n",
        "X, y = data[:, :-1], data[:, -1]\n",
        "print(X)\n",
        "print(y)"
      ],
      "metadata": {
        "colab": {
          "base_uri": "https://localhost:8080/"
        },
        "id": "39kKliNMH4gA",
        "outputId": "1caa1243-3119-49a6-c411-d7f216b3d752"
      },
      "execution_count": null,
      "outputs": [
        {
          "output_type": "stream",
          "name": "stdout",
          "text": [
            "[[11 22]\n",
            " [44 55]\n",
            " [77 88]]\n",
            "[33 66 99]\n"
          ]
        }
      ]
    },
    {
      "cell_type": "code",
      "source": [
        "# split train and test data\n",
        "from numpy import array\n",
        "# define array\n",
        "data = array([\n",
        "[11, 22, 33],\n",
        "[44, 55, 66],\n",
        "[77, 88, 99]])\n",
        "# separate data\n",
        "split = 2\n",
        "train,test = data[:split,:],data[split:,:]\n",
        "print(train)\n",
        "print(test)"
      ],
      "metadata": {
        "colab": {
          "base_uri": "https://localhost:8080/"
        },
        "id": "XkXnyugqH78z",
        "outputId": "1b215c57-5095-477b-ceb3-cd9ee2ed7acd"
      },
      "execution_count": null,
      "outputs": [
        {
          "output_type": "stream",
          "name": "stdout",
          "text": [
            "[[11 22 33]\n",
            " [44 55 66]]\n",
            "[[77 88 99]]\n"
          ]
        }
      ]
    },
    {
      "cell_type": "code",
      "source": [
        "# shape of one-dimensional array\n",
        "from numpy import array\n",
        "# define array\n",
        "data = array([11, 22, 33, 44, 55])\n",
        "print(data.shape)"
      ],
      "metadata": {
        "colab": {
          "base_uri": "https://localhost:8080/"
        },
        "id": "cbhvyG-9H-hl",
        "outputId": "d42006c3-0946-4fc9-be2f-b3992e74a3b0"
      },
      "execution_count": null,
      "outputs": [
        {
          "output_type": "stream",
          "name": "stdout",
          "text": [
            "(5,)\n"
          ]
        }
      ]
    },
    {
      "cell_type": "code",
      "source": [
        "# shape of a two-dimensional array\n",
        "from numpy import array\n",
        "# list of data\n",
        "data = [[11, 22],\n",
        "[33, 44],\n",
        "[55, 66]]\n",
        "# array of data\n",
        "data = array(data)\n",
        "print(data.shape)"
      ],
      "metadata": {
        "colab": {
          "base_uri": "https://localhost:8080/"
        },
        "id": "d0JHue_RIFag",
        "outputId": "c748207f-252f-4561-cd58-f5ae708c2997"
      },
      "execution_count": null,
      "outputs": [
        {
          "output_type": "stream",
          "name": "stdout",
          "text": [
            "(3, 2)\n"
          ]
        }
      ]
    },
    {
      "cell_type": "code",
      "source": [
        "# row and column shape of two-dimensional array\n",
        "from numpy import array\n",
        "# list of data\n",
        "data = [[11, 22],\n",
        "        [33, 44],\n",
        "        [55, 66]]\n",
        "# array of data\n",
        "data = array(data)\n",
        "print('Rows: %d' % data.shape[0])\n",
        "print('Cols: %d' % data.shape[1])"
      ],
      "metadata": {
        "colab": {
          "base_uri": "https://localhost:8080/"
        },
        "id": "Tnl0boNlIInC",
        "outputId": "b0b0e75e-df6d-4854-9fc0-3cc17fc2312f"
      },
      "execution_count": null,
      "outputs": [
        {
          "output_type": "stream",
          "name": "stdout",
          "text": [
            "Rows: 3\n",
            "Cols: 2\n"
          ]
        }
      ]
    },
    {
      "cell_type": "code",
      "source": [
        "# reshape 1D array to 2D\n",
        "from numpy import array\n",
        "# define array\n",
        "data = array([11, 22, 33, 44, 55])\n",
        "print(data.shape)\n",
        "# reshape\n",
        "data = data.reshape((data.shape[0], 1))\n",
        "print(data.shape)"
      ],
      "metadata": {
        "id": "IFsx_pBxISvY",
        "outputId": "f54afb61-65f2-44ea-bb96-b20da2a619f1",
        "colab": {
          "base_uri": "https://localhost:8080/"
        }
      },
      "execution_count": null,
      "outputs": [
        {
          "output_type": "stream",
          "name": "stdout",
          "text": [
            "(5,)\n",
            "(5, 1)\n"
          ]
        }
      ]
    },
    {
      "cell_type": "code",
      "source": [
        "# reshape 2D array to 3D\n",
        "from numpy import array\n",
        "# list of data\n",
        "data = [[11, 22],\n",
        "[33, 44],\n",
        "[55, 66]]\n",
        "# array of data\n",
        "data = array(data)\n",
        "print(data.shape)\n",
        "# reshape\n",
        "data = data.reshape((data.shape[0], data.shape[1], 1))\n",
        "print(data.shape)"
      ],
      "metadata": {
        "id": "kyVGZas7IV0G",
        "outputId": "6be6c0a8-77c3-444d-bdae-8d6bd3d55d73",
        "colab": {
          "base_uri": "https://localhost:8080/"
        }
      },
      "execution_count": null,
      "outputs": [
        {
          "output_type": "stream",
          "name": "stdout",
          "text": [
            "(3, 2)\n",
            "(3, 2, 1)\n"
          ]
        }
      ]
    },
    {
      "cell_type": "code",
      "source": [
        "# tensor product\n",
        "from numpy import array\n",
        "from numpy import tensordot\n",
        "# define first vector\n",
        "A = array([1,2])\n",
        "# define second vector\n",
        "B = array([3,4])\n",
        "# calculate tensor product\n",
        "C = tensordot(A, B, axes=0)\n",
        "print(C)"
      ],
      "metadata": {
        "colab": {
          "base_uri": "https://localhost:8080/"
        },
        "id": "7zThQCgEj62A",
        "outputId": "56e22fd4-6732-4fea-b9eb-631635cae560"
      },
      "execution_count": 1,
      "outputs": [
        {
          "output_type": "stream",
          "name": "stdout",
          "text": [
            "[[3 4]\n",
            " [6 8]]\n"
          ]
        }
      ]
    },
    {
      "cell_type": "code",
      "source": [
        "# LU decomposition\n",
        "from numpy import array\n",
        "from scipy.linalg import lu\n",
        "# define a square matrix\n",
        "A = array([\n",
        "[1, 2, 3],\n",
        "[4, 5, 6],\n",
        "[7, 8, 9]])\n",
        "print(A)\n",
        "# factorize\n",
        "P, L, U = lu(A)\n",
        "print(P)\n",
        "print(L)\n",
        "print(U)\n",
        "# reconstruct\n",
        "B = P.dot(L).dot(U)\n",
        "print(B)"
      ],
      "metadata": {
        "colab": {
          "base_uri": "https://localhost:8080/"
        },
        "id": "0b2WcrMNmd21",
        "outputId": "d8fe6aa2-9761-4a10-d8e0-bb97cebb2a4a"
      },
      "execution_count": 2,
      "outputs": [
        {
          "output_type": "stream",
          "name": "stdout",
          "text": [
            "[[1 2 3]\n",
            " [4 5 6]\n",
            " [7 8 9]]\n",
            "[[0. 1. 0.]\n",
            " [0. 0. 1.]\n",
            " [1. 0. 0.]]\n",
            "[[1.         0.         0.        ]\n",
            " [0.14285714 1.         0.        ]\n",
            " [0.57142857 0.5        1.        ]]\n",
            "[[7.         8.         9.        ]\n",
            " [0.         0.85714286 1.71428571]\n",
            " [0.         0.         0.        ]]\n",
            "[[1. 2. 3.]\n",
            " [4. 5. 6.]\n",
            " [7. 8. 9.]]\n"
          ]
        }
      ]
    },
    {
      "cell_type": "code",
      "source": [
        "# QR decomposition\n",
        "from numpy import array\n",
        "from numpy.linalg import qr\n",
        "# define rectangular matrix\n",
        "A = array([\n",
        "[1, 2],\n",
        "[3, 4],\n",
        "[5, 6]])\n",
        "print(A)\n",
        "# factorize\n",
        "Q, R = qr(A, 'complete')\n",
        "print(Q)\n",
        "print(R)\n",
        "# reconstruct\n",
        "B = Q.dot(R)\n",
        "print(B)"
      ],
      "metadata": {
        "colab": {
          "base_uri": "https://localhost:8080/"
        },
        "id": "5uLRGHa_nYFE",
        "outputId": "a6cb390f-fbd9-4a6d-8433-b1aa7e3afcd9"
      },
      "execution_count": 3,
      "outputs": [
        {
          "output_type": "stream",
          "name": "stdout",
          "text": [
            "[[1 2]\n",
            " [3 4]\n",
            " [5 6]]\n",
            "[[-0.16903085  0.89708523  0.40824829]\n",
            " [-0.50709255  0.27602622 -0.81649658]\n",
            " [-0.84515425 -0.34503278  0.40824829]]\n",
            "[[-5.91607978 -7.43735744]\n",
            " [ 0.          0.82807867]\n",
            " [ 0.          0.        ]]\n",
            "[[1. 2.]\n",
            " [3. 4.]\n",
            " [5. 6.]]\n"
          ]
        }
      ]
    },
    {
      "cell_type": "code",
      "source": [
        "# Cholesky decomposition\n",
        "from numpy import array\n",
        "from numpy.linalg import cholesky\n",
        "# define symmetrical matrix\n",
        "A = array([\n",
        "[2, 1, 1],\n",
        "[1, 2, 1],\n",
        "[1, 1, 2]])\n",
        "print(A)\n",
        "# factorize\n",
        "L = cholesky(A)\n",
        "print(L)\n",
        "# reconstruct\n",
        "B = L.dot(L.T)\n",
        "print(B)"
      ],
      "metadata": {
        "colab": {
          "base_uri": "https://localhost:8080/"
        },
        "id": "7WxpGykhnlfW",
        "outputId": "59be8714-ee68-4c4d-eeb9-5bbb54018d6d"
      },
      "execution_count": 4,
      "outputs": [
        {
          "output_type": "stream",
          "name": "stdout",
          "text": [
            "[[2 1 1]\n",
            " [1 2 1]\n",
            " [1 1 2]]\n",
            "[[1.41421356 0.         0.        ]\n",
            " [0.70710678 1.22474487 0.        ]\n",
            " [0.70710678 0.40824829 1.15470054]]\n",
            "[[2. 1. 1.]\n",
            " [1. 2. 1.]\n",
            " [1. 1. 2.]]\n"
          ]
        }
      ]
    },
    {
      "cell_type": "code",
      "source": [
        "# eigendecomposition\n",
        "from numpy import array\n",
        "from numpy.linalg import eig\n",
        "# define matrix\n",
        "A = array([\n",
        "[1, 2, 3],\n",
        "[4, 5, 6],\n",
        "[7, 8, 9]])\n",
        "print(A)\n",
        "# factorize\n",
        "values, vectors = eig(A)\n",
        "print(values)\n",
        "print(vectors)"
      ],
      "metadata": {
        "colab": {
          "base_uri": "https://localhost:8080/"
        },
        "id": "yMinyZvftjRB",
        "outputId": "fef6ada8-431b-4123-da67-cc5a64311fd6"
      },
      "execution_count": 5,
      "outputs": [
        {
          "output_type": "stream",
          "name": "stdout",
          "text": [
            "[[1 2 3]\n",
            " [4 5 6]\n",
            " [7 8 9]]\n",
            "[ 1.61168440e+01 -1.11684397e+00 -1.30367773e-15]\n",
            "[[-0.23197069 -0.78583024  0.40824829]\n",
            " [-0.52532209 -0.08675134 -0.81649658]\n",
            " [-0.8186735   0.61232756  0.40824829]]\n"
          ]
        }
      ]
    },
    {
      "cell_type": "code",
      "source": [
        "# confirm eigenvector\n",
        "from numpy import array\n",
        "from numpy.linalg import eig\n",
        "# define matrix\n",
        "A = array([\n",
        "[1, 2, 3],\n",
        "[4, 5, 6],\n",
        "[7, 8, 9]])\n",
        "# factorize\n",
        "values, vectors = eig(A)\n",
        "# confirm first eigenvector\n",
        "B = A.dot(vectors[:, 0])\n",
        "print(B)\n",
        "C = vectors[:, 0] * values[0]\n",
        "print(C)"
      ],
      "metadata": {
        "colab": {
          "base_uri": "https://localhost:8080/"
        },
        "id": "kIyEKiv6twla",
        "outputId": "44436328-8887-481c-f4dd-32ea80283542"
      },
      "execution_count": 6,
      "outputs": [
        {
          "output_type": "stream",
          "name": "stdout",
          "text": [
            "[ -3.73863537  -8.46653421 -13.19443305]\n",
            "[ -3.73863537  -8.46653421 -13.19443305]\n"
          ]
        }
      ]
    },
    {
      "cell_type": "code",
      "source": [
        "# reconstruct matrix\n",
        "from numpy import diag\n",
        "from numpy.linalg import inv\n",
        "from numpy import array\n",
        "from numpy.linalg import eig\n",
        "# define matrix\n",
        "A = array([\n",
        "[1, 2, 3],\n",
        "[4, 5, 6],\n",
        "[7, 8, 9]])\n",
        "print(A)\n",
        "# factorize\n",
        "values, vectors = eig(A)\n",
        "# create matrix from eigenvectors\n",
        "Q = vectors\n",
        "# create inverse of eigenvectors matrix\n",
        "R = inv(Q)\n",
        "# create diagonal matrix from eigenvalues\n",
        "L = diag(values)\n",
        "# reconstruct the original matrix\n",
        "B = Q.dot(L).dot(R)\n",
        "print(B)"
      ],
      "metadata": {
        "colab": {
          "base_uri": "https://localhost:8080/"
        },
        "id": "4G3pStDat_xg",
        "outputId": "d7ff7838-999f-4e90-e391-80f71b7c0b8a"
      },
      "execution_count": 7,
      "outputs": [
        {
          "output_type": "stream",
          "name": "stdout",
          "text": [
            "[[1 2 3]\n",
            " [4 5 6]\n",
            " [7 8 9]]\n",
            "[[1. 2. 3.]\n",
            " [4. 5. 6.]\n",
            " [7. 8. 9.]]\n"
          ]
        }
      ]
    },
    {
      "cell_type": "code",
      "source": [
        "# singular-value decomposition\n",
        "from numpy import array\n",
        "from scipy.linalg import svd\n",
        "# define a matrix\n",
        "A = array([\n",
        "[1, 2],\n",
        "[3, 4],\n",
        "[5, 6]])\n",
        "print(A)\n",
        "# factorize\n",
        "U, s, V = svd(A)\n",
        "print(U)\n",
        "print(s)\n",
        "print(V)"
      ],
      "metadata": {
        "colab": {
          "base_uri": "https://localhost:8080/"
        },
        "id": "bAjPCNLbuLc_",
        "outputId": "b12b289a-77ec-4149-df80-21cc8531e641"
      },
      "execution_count": 8,
      "outputs": [
        {
          "output_type": "stream",
          "name": "stdout",
          "text": [
            "[[1 2]\n",
            " [3 4]\n",
            " [5 6]]\n",
            "[[-0.2298477   0.88346102  0.40824829]\n",
            " [-0.52474482  0.24078249 -0.81649658]\n",
            " [-0.81964194 -0.40189603  0.40824829]]\n",
            "[9.52551809 0.51430058]\n",
            "[[-0.61962948 -0.78489445]\n",
            " [-0.78489445  0.61962948]]\n"
          ]
        }
      ]
    },
    {
      "cell_type": "code",
      "source": [
        "# reconstruct rectangular matrix from svd\n",
        "from numpy import array\n",
        "from numpy import diag\n",
        "from numpy import zeros\n",
        "from scipy.linalg import svd\n",
        "# define matrix\n",
        "A = array([\n",
        "[1, 2],\n",
        "[3, 4],\n",
        "[5, 6]])\n",
        "print(A)\n",
        "# factorize\n",
        "U, s, V = svd(A)\n",
        "# create m x n Sigma matrix\n",
        "Sigma = zeros((A.shape[0], A.shape[1]))\n",
        "# populate Sigma with n x n diagonal matrix\n",
        "Sigma[:A.shape[1], :A.shape[1]] = diag(s)\n",
        "# reconstruct matrix\n",
        "B = U.dot(Sigma.dot(V))\n",
        "print(B)"
      ],
      "metadata": {
        "colab": {
          "base_uri": "https://localhost:8080/"
        },
        "id": "gIstBhfwuYcg",
        "outputId": "81199444-08ff-4242-db78-faffbe56eea9"
      },
      "execution_count": 9,
      "outputs": [
        {
          "output_type": "stream",
          "name": "stdout",
          "text": [
            "[[1 2]\n",
            " [3 4]\n",
            " [5 6]]\n",
            "[[1. 2.]\n",
            " [3. 4.]\n",
            " [5. 6.]]\n"
          ]
        }
      ]
    },
    {
      "cell_type": "code",
      "source": [
        "# reconstruct square matrix from svd\n",
        "from numpy import array\n",
        "from numpy import diag\n",
        "from scipy.linalg import svd\n",
        "# define matrix\n",
        "A = array([\n",
        "[1, 2, 3],\n",
        "[4, 5, 6],\n",
        "[7, 8, 9]])\n",
        "print(A)\n",
        "# factorize\n",
        "U, s, V = svd(A)\n",
        "# create n x n Sigma matrix\n",
        "Sigma = diag(s)\n",
        "# reconstruct matrix\n",
        "B = U.dot(Sigma.dot(V))\n",
        "print(B)"
      ],
      "metadata": {
        "colab": {
          "base_uri": "https://localhost:8080/"
        },
        "id": "RLfprHycupaD",
        "outputId": "195ba471-0657-4f01-cc95-8f2cc6e22082"
      },
      "execution_count": 10,
      "outputs": [
        {
          "output_type": "stream",
          "name": "stdout",
          "text": [
            "[[1 2 3]\n",
            " [4 5 6]\n",
            " [7 8 9]]\n",
            "[[1. 2. 3.]\n",
            " [4. 5. 6.]\n",
            " [7. 8. 9.]]\n"
          ]
        }
      ]
    },
    {
      "cell_type": "code",
      "source": [
        "# pseudoinverse\n",
        "from numpy import array\n",
        "from numpy.linalg import pinv\n",
        "# define matrix\n",
        "A = array([\n",
        "[0.1, 0.2],\n",
        "[0.3, 0.4],\n",
        "[0.5, 0.6],\n",
        "[0.7, 0.8]])\n",
        "print(A)\n",
        "# calculate pseudoinverse\n",
        "B = pinv(A)\n",
        "print(B)"
      ],
      "metadata": {
        "colab": {
          "base_uri": "https://localhost:8080/"
        },
        "id": "6uOxVE4Yu0XJ",
        "outputId": "c87bcbe8-9706-4780-e166-2687b3a96210"
      },
      "execution_count": 11,
      "outputs": [
        {
          "output_type": "stream",
          "name": "stdout",
          "text": [
            "[[0.1 0.2]\n",
            " [0.3 0.4]\n",
            " [0.5 0.6]\n",
            " [0.7 0.8]]\n",
            "[[-1.00000000e+01 -5.00000000e+00  1.42385628e-14  5.00000000e+00]\n",
            " [ 8.50000000e+00  4.50000000e+00  5.00000000e-01 -3.50000000e+00]]\n"
          ]
        }
      ]
    },
    {
      "cell_type": "code",
      "source": [
        "# pseudoinverse via svd\n",
        "from numpy import array\n",
        "from numpy.linalg import svd\n",
        "from numpy import zeros\n",
        "from numpy import diag\n",
        "# define matrix\n",
        "A = array([\n",
        "[0.1, 0.2],\n",
        "[0.3, 0.4],\n",
        "[0.5, 0.6],\n",
        "[0.7, 0.8]])\n",
        "print(A)\n",
        "# factorize\n",
        "U, s, V = svd(A)\n",
        "# reciprocals of s\n",
        "d = 1.0 / s\n",
        "# create m x n D matrix\n",
        "D = zeros(A.shape)\n",
        "# populate D with n x n diagonal matrix\n",
        "D[:A.shape[1], :A.shape[1]] = diag(d)\n",
        "# calculate pseudoinverse\n",
        "B = V.T.dot(D.T).dot(U.T)\n",
        "print(B)"
      ],
      "metadata": {
        "colab": {
          "base_uri": "https://localhost:8080/"
        },
        "id": "gkffyezgu_S7",
        "outputId": "1dd86349-eb7f-4a6e-8963-87608f4e0ce4"
      },
      "execution_count": 12,
      "outputs": [
        {
          "output_type": "stream",
          "name": "stdout",
          "text": [
            "[[0.1 0.2]\n",
            " [0.3 0.4]\n",
            " [0.5 0.6]\n",
            " [0.7 0.8]]\n",
            "[[-1.00000000e+01 -5.00000000e+00  1.42578328e-14  5.00000000e+00]\n",
            " [ 8.50000000e+00  4.50000000e+00  5.00000000e-01 -3.50000000e+00]]\n"
          ]
        }
      ]
    },
    {
      "cell_type": "code",
      "source": [
        "# data reduction with svd\n",
        "from numpy import array\n",
        "from numpy import diag\n",
        "from numpy import zeros\n",
        "from scipy.linalg import svd\n",
        "# define matrix\n",
        "A = array([\n",
        "[1,2,3,4,5,6,7,8,9,10],\n",
        "[11,12,13,14,15,16,17,18,19,20],\n",
        "[21,22,23,24,25,26,27,28,29,30]])\n",
        "print(A)\n",
        "# factorize\n",
        "U, s, V = svd(A)\n",
        "# create m x n Sigma matrix\n",
        "Sigma = zeros((A.shape[0], A.shape[1]))\n",
        "# populate Sigma with n x n diagonal matrix\n",
        "Sigma[:A.shape[0], :A.shape[0]] = diag(s)\n",
        "# select\n",
        "n_elements = 2\n",
        "Sigma = Sigma[:, :n_elements]\n",
        "V = V[:n_elements, :]\n",
        "# reconstruct\n",
        "B = U.dot(Sigma.dot(V))\n",
        "print(B)\n",
        "# transform\n",
        "T = U.dot(Sigma)\n",
        "print(T)\n",
        "T = A.dot(V.T)\n",
        "print(T)"
      ],
      "metadata": {
        "colab": {
          "base_uri": "https://localhost:8080/"
        },
        "id": "M5jIT9pFvMHk",
        "outputId": "74e54ae6-4909-4139-98cd-acfafe929065"
      },
      "execution_count": 13,
      "outputs": [
        {
          "output_type": "stream",
          "name": "stdout",
          "text": [
            "[[ 1  2  3  4  5  6  7  8  9 10]\n",
            " [11 12 13 14 15 16 17 18 19 20]\n",
            " [21 22 23 24 25 26 27 28 29 30]]\n",
            "[[ 1.  2.  3.  4.  5.  6.  7.  8.  9. 10.]\n",
            " [11. 12. 13. 14. 15. 16. 17. 18. 19. 20.]\n",
            " [21. 22. 23. 24. 25. 26. 27. 28. 29. 30.]]\n",
            "[[-18.52157747   6.47697214]\n",
            " [-49.81310011   1.91182038]\n",
            " [-81.10462276  -2.65333138]]\n",
            "[[-18.52157747   6.47697214]\n",
            " [-49.81310011   1.91182038]\n",
            " [-81.10462276  -2.65333138]]\n"
          ]
        }
      ]
    },
    {
      "cell_type": "code",
      "source": [
        "# svd data reduction in scikit-learn\n",
        "from numpy import array\n",
        "from sklearn.decomposition import TruncatedSVD\n",
        "# define matrix\n",
        "A = array([\n",
        "[1,2,3,4,5,6,7,8,9,10],\n",
        "[11,12,13,14,15,16,17,18,19,20],\n",
        "[21,22,23,24,25,26,27,28,29,30]])\n",
        "print(A)\n",
        "# create transform\n",
        "svd = TruncatedSVD(n_components=2)\n",
        "# fit transform\n",
        "svd.fit(A)\n",
        "# apply transform\n",
        "result = svd.transform(A)\n",
        "print(result)"
      ],
      "metadata": {
        "colab": {
          "base_uri": "https://localhost:8080/"
        },
        "id": "_otGnOt3vUFX",
        "outputId": "c20c285a-2459-42b8-c47a-93d963831d9c"
      },
      "execution_count": 14,
      "outputs": [
        {
          "output_type": "stream",
          "name": "stdout",
          "text": [
            "[[ 1  2  3  4  5  6  7  8  9 10]\n",
            " [11 12 13 14 15 16 17 18 19 20]\n",
            " [21 22 23 24 25 26 27 28 29 30]]\n",
            "[[18.52157747  6.47697214]\n",
            " [49.81310011  1.91182038]\n",
            " [81.10462276 -2.65333138]]\n"
          ]
        }
      ]
    }
  ]
}